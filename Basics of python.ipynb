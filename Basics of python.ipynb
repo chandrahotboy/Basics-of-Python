{
 "cells": [
  {
   "cell_type": "markdown",
   "id": "6c924200-6794-4142-bf8f-f716214fc174",
   "metadata": {},
   "source": [
    "## Exercise 1: Prime Numbers\n",
    "\n",
    "## Write a Python program that checks whether a given number is prime or not. A prime number is a natural number greater than 1 that has no positive divisors other than 1 and itself."
   ]
  },
  {
   "cell_type": "code",
   "execution_count": 1,
   "id": "cbee9cd5-f354-4cd7-a474-8d936edf9142",
   "metadata": {},
   "outputs": [
    {
     "name": "stdin",
     "output_type": "stream",
     "text": [
      "Enter a number:  55\n"
     ]
    },
    {
     "name": "stdout",
     "output_type": "stream",
     "text": [
      "55 is not a prime number.\n"
     ]
    }
   ],
   "source": [
    "def prime(n):\n",
    "    if n <= 1:\n",
    "        return False\n",
    "    if n == 2:\n",
    "        return True\n",
    "    if n % 2 == 0:\n",
    "        return False\n",
    "    for i in range(3, int(n**0.5) + 1, 2):\n",
    "        if n % i == 0:\n",
    "            return False\n",
    "    return True\n",
    "number = int(input(\"Enter a number: \"))\n",
    "if prime(number):\n",
    "    print(f\"{number} is a prime number.\")\n",
    "else:\n",
    "    print(f\"{number} is not a prime number.\")\n"
   ]
  },
  {
   "cell_type": "markdown",
   "id": "7645a9a6-2215-45db-8011-5661e1f4f50a",
   "metadata": {},
   "source": [
    "## Exercise 2: Product of Random Numbers\n",
    "\n",
    "## Develop a Python program that generates two random numbers and asks the user to enter the product of these numbers. The program should then check if the user's answer is correct and display an appropriate message."
   ]
  },
  {
   "cell_type": "code",
   "execution_count": 2,
   "id": "7646d4ab-feaf-4d43-ba2f-11d9c0ab68f0",
   "metadata": {},
   "outputs": [
    {
     "name": "stdout",
     "output_type": "stream",
     "text": [
      "What is the product of 93 and 23?\n"
     ]
    },
    {
     "name": "stdin",
     "output_type": "stream",
     "text": [
      "Enter your answer:  2139\n"
     ]
    },
    {
     "name": "stdout",
     "output_type": "stream",
     "text": [
      "Correct answer.\n"
     ]
    }
   ],
   "source": [
    "import random\n",
    "\n",
    "def generate_random_numbers():\n",
    "    num1 = random.randint(1, 100)\n",
    "    num2 = random.randint(1, 100)\n",
    "    return num1, num2\n",
    "\n",
    "def main():\n",
    "    num1, num2 = generate_random_numbers()\n",
    "    print(f\"What is the product of {num1} and {num2}?\")\n",
    "    user_answer = int(input(\"Enter your answer: \"))\n",
    "    correct_answer = num1 * num2\n",
    "\n",
    "    if user_answer == correct_answer:\n",
    "        print(\"Correct answer.\")\n",
    "    else:\n",
    "        print(f\"Incorrect. The correct answer is {correct_answer}.\")\n",
    "        \n",
    "if __name__ == \"__main__\":\n",
    "    main()\n"
   ]
  },
  {
   "cell_type": "markdown",
   "id": "dc855bc8-27e3-4760-a59c-33361da84fec",
   "metadata": {},
   "source": [
    "## Exercise 3: Squares of Even/Odd Numbers\n",
    "\n",
    "## Create a Python script that prints the squares of all even or odd numbers within the range of 100 to 200. Choose either even or odd numbers and document your choice in the code."
   ]
  },
  {
   "cell_type": "code",
   "execution_count": 3,
   "id": "a358b39d-0c66-4952-a195-c950eb4e54e9",
   "metadata": {},
   "outputs": [
    {
     "name": "stdout",
     "output_type": "stream",
     "text": [
      "The square of 101 is 10201\n",
      "The square of 103 is 10609\n",
      "The square of 105 is 11025\n",
      "The square of 107 is 11449\n",
      "The square of 109 is 11881\n",
      "The square of 111 is 12321\n",
      "The square of 113 is 12769\n",
      "The square of 115 is 13225\n",
      "The square of 117 is 13689\n",
      "The square of 119 is 14161\n",
      "The square of 121 is 14641\n",
      "The square of 123 is 15129\n",
      "The square of 125 is 15625\n",
      "The square of 127 is 16129\n",
      "The square of 129 is 16641\n",
      "The square of 131 is 17161\n",
      "The square of 133 is 17689\n",
      "The square of 135 is 18225\n",
      "The square of 137 is 18769\n",
      "The square of 139 is 19321\n",
      "The square of 141 is 19881\n",
      "The square of 143 is 20449\n",
      "The square of 145 is 21025\n",
      "The square of 147 is 21609\n",
      "The square of 149 is 22201\n",
      "The square of 151 is 22801\n",
      "The square of 153 is 23409\n",
      "The square of 155 is 24025\n",
      "The square of 157 is 24649\n",
      "The square of 159 is 25281\n",
      "The square of 161 is 25921\n",
      "The square of 163 is 26569\n",
      "The square of 165 is 27225\n",
      "The square of 167 is 27889\n",
      "The square of 169 is 28561\n",
      "The square of 171 is 29241\n",
      "The square of 173 is 29929\n",
      "The square of 175 is 30625\n",
      "The square of 177 is 31329\n",
      "The square of 179 is 32041\n",
      "The square of 181 is 32761\n",
      "The square of 183 is 33489\n",
      "The square of 185 is 34225\n",
      "The square of 187 is 34969\n",
      "The square of 189 is 35721\n",
      "The square of 191 is 36481\n",
      "The square of 193 is 37249\n",
      "The square of 195 is 38025\n",
      "The square of 197 is 38809\n",
      "The square of 199 is 39601\n"
     ]
    }
   ],
   "source": [
    " for number in range(100, 201):\n",
    "        if number % 2 != 0:  # odd numbers within the range of 100 to 200 \n",
    "            print(f\"The square of {number} is {number ** 2}\")"
   ]
  },
  {
   "cell_type": "markdown",
   "id": "d2e129c8-e808-4f45-b072-f31f37909169",
   "metadata": {},
   "source": [
    "## Exercise 4: Word counter\n",
    "\n",
    "## Write a program to count the number of words in a given text."
   ]
  },
  {
   "cell_type": "code",
   "execution_count": 4,
   "id": "58a81554-24a0-483b-969c-011601ca9390",
   "metadata": {},
   "outputs": [
    {
     "name": "stdin",
     "output_type": "stream",
     "text": [
      "Enter your Sentence:  Write a Python function called is_palindrome that takes a string as input and returns True if the string is a palindrome, and False otherwise. A palindrome is a word, phrase, number, or other sequence of characters that reads the same forward and backward, ignoring spaces, punctuation, and capitalization.\n"
     ]
    },
    {
     "name": "stdout",
     "output_type": "stream",
     "text": [
      "'write': 1\n",
      "'a': 5\n",
      "'python': 1\n",
      "'function': 1\n",
      "'called': 1\n",
      "'is_palindrome': 1\n",
      "'that': 2\n",
      "'takes': 1\n",
      "'string': 2\n",
      "'as': 1\n",
      "'input': 1\n",
      "'and': 4\n",
      "'returns': 1\n",
      "'true': 1\n",
      "'if': 1\n",
      "'the': 2\n",
      "'is': 2\n",
      "'palindrome,': 1\n",
      "'false': 1\n",
      "'otherwise.': 1\n",
      "'palindrome': 1\n",
      "'word,': 1\n",
      "'phrase,': 1\n",
      "'number,': 1\n",
      "'or': 1\n",
      "'other': 1\n",
      "'sequence': 1\n",
      "'of': 1\n",
      "'characters': 1\n",
      "'reads': 1\n",
      "'same': 1\n",
      "'forward': 1\n",
      "'backward,': 1\n",
      "'ignoring': 1\n",
      "'spaces,': 1\n",
      "'punctuation,': 1\n",
      "'capitalization.': 1\n"
     ]
    }
   ],
   "source": [
    "def count_words(text):\n",
    "    word_counts = {}\n",
    "    words = text.split()\n",
    "\n",
    "    for word in words:\n",
    "        word = word.lower()  # Convert word to lowercase to make the count case-insensitive\n",
    "        if word in word_counts:\n",
    "            word_counts[word] += 1\n",
    "        else:\n",
    "            word_counts[word] = 1\n",
    "\n",
    "    return word_counts\n",
    "\n",
    "input_text = input(\"Enter your Sentence: \")\n",
    "word_count = count_words(input_text)\n",
    "\n",
    "for word, count in word_count.items(): # print the word counts\n",
    "    print(f\"'{word}': {count}\")"
   ]
  },
  {
   "cell_type": "markdown",
   "id": "2486c726-5277-4467-af1e-b493af465f6e",
   "metadata": {},
   "source": [
    "## Exercise 5: Check for Palindrome\n",
    "## Write a Python function called is_palindrome that takes a string as input and returns True if the string is a palindrome, and False otherwise. A palindrome is a word, phrase, number, or other sequence of characters that reads the same forward and backward, ignoring spaces, punctuation, and capitalization.\n"
   ]
  },
  {
   "cell_type": "code",
   "execution_count": 5,
   "id": "30f3fedb-988e-4319-b79f-78f224090650",
   "metadata": {},
   "outputs": [
    {
     "name": "stdin",
     "output_type": "stream",
     "text": [
      "Enter a word :  racecar\n"
     ]
    },
    {
     "name": "stdout",
     "output_type": "stream",
     "text": [
      "Is palindrome: True\n"
     ]
    }
   ],
   "source": [
    "import re\n",
    "\n",
    "def is_palindrome(s):\n",
    "    cleaned_s = re.sub(r'[^A-Za-z0-9]', '', s).lower()  # remove non-alphanumeric characters and converts to lowercase\n",
    "    return cleaned_s == cleaned_s[::-1]  # this line will check the cleaned string is equal to its reverse\n",
    "\n",
    "input_str = input(\"Enter a word : \")\n",
    "print(f\"Is palindrome: {is_palindrome(input_str)}\")"
   ]
  },
  {
   "cell_type": "code",
   "execution_count": null,
   "id": "f68b46ba-387c-46e4-ba58-0f28d91ac096",
   "metadata": {},
   "outputs": [],
   "source": []
  }
 ],
 "metadata": {
  "kernelspec": {
   "display_name": "Python 3 (ipykernel)",
   "language": "python",
   "name": "python3"
  },
  "language_info": {
   "codemirror_mode": {
    "name": "ipython",
    "version": 3
   },
   "file_extension": ".py",
   "mimetype": "text/x-python",
   "name": "python",
   "nbconvert_exporter": "python",
   "pygments_lexer": "ipython3",
   "version": "3.11.7"
  }
 },
 "nbformat": 4,
 "nbformat_minor": 5
}
